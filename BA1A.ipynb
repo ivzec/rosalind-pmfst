{
  "nbformat": 4,
  "nbformat_minor": 0,
  "metadata": {
    "colab": {
      "name": "BA1A",
      "provenance": []
    },
    "kernelspec": {
      "name": "python3",
      "display_name": "Python 3"
    },
    "language_info": {
      "name": "python"
    }
  },
  "cells": [
    {
      "cell_type": "code",
      "execution_count": 2,
      "metadata": {
        "colab": {
          "base_uri": "https://localhost:8080/"
        },
        "id": "oZcQf1GQgriv",
        "outputId": "8bfaa432-6608-4573-d886-37c9a18b8d0e"
      },
      "outputs": [
        {
          "output_type": "stream",
          "name": "stdout",
          "text": [
            "29\n"
          ]
        }
      ],
      "source": [
        "def kmer(text, i, k):\n",
        "    \"\"\"podstring od ite pozicije za iducih k slova\"\"\"\n",
        "    return text[i : (i + k)]\n",
        "\n",
        "\n",
        "def patterncount(text, pattern):\n",
        "    \"\"\"broji koliko puta se uzorak pojavia u tekstu\"\"\"\n",
        "    count = 0\n",
        "    np = len(pattern)\n",
        "    for i in range(0, len(text) - np + 1):\n",
        "        if kmer(text, i, np) == pattern:\n",
        "            count = count + 1\n",
        "    return count\n",
        "\n",
        "x=\"\"\"TTCAGTCCGAAGTCCGATCGAGATAAGGAGTCCGAAGTCCGAAGTCCGAAGTCCGATTACTTTCTAGTCCGACTGACAGATTAGTCCGAACTGAGTCCGAAACAGTCCGATTGAGTCCGACACCTGTTCAAAGTCCGAAGTCCGAGGGGGAGTCCGAGAATAGTCCGAGAGTCCGAAGTCCGAAGTCCGAAGTCCGAAACATGAGTCCGAGTAGTCCGAAAAGTCCGAAAGTCCGATATGTCTAGTCCGATAAGTCCGATAGTCCGAGAAGTCCGAAGTGAGTCCGACAGTCCGAGCTAGTCCGACAGTCCGATTAGTCCGATAAGAGGAGTCCGATCAGTCCGATAACTCGTGGAAGTCCGAAGTCCGATGAGTCCGATGAGTCCGATTGTAGTCCGATGCTTAAGTCCGACACAGTCCGATTCCCACAGTCCGATAGTCCGAAGTCCGAAGTCCGAAAGTCCGATAGTCCGAAATATGATAGTCCGAAGTCCGAATATGCAGTCCGACAGTCCGACTGAGTCCGAGGAAGTCCGAGGAGTCCGAATATATAGCAGTCCGATTAGTCCGAAGTCCGAAAGTCCGAAGTCCGACTAAGTCCGAAGTCCGATGACAAGTCCGACCCGGCAAAGTCCGATAGTCCGAAGGCCAGTCCGAACAGTCCGATTAGTCCGAAAGTCCGAGAGTCCGAAGAAGTCCGATTGGGTAAGTCCGACAGTCCGAAGAAAAGAGTCCGAAGTCCGAATATAGAAGTCCGAACCCAGTCCGATAGTCCGACAAGTCCGAGAGTCCGAAAAAAGTCCGAGAGTCCGAAGTCCGAGTGCCGAGTCCGAAGTCCGATGCCGAGCACTGGCCACAGTCCGATAGAGTCCGAAAGTCCGACAGTCCGAAGTCCGAAGTCCGACAGTCCGACAGTCCGAAGTCCGAAGTCCGATAAGTCCGAAGTCCGACACAGTCCGAAGTCCGAGTCAGTCCGAAGTCCGAGAGTCCGACAGTCTAGTCCGATCGGACTAGTCCGAAAT\n",
        "AGTCCGAAG\"\"\"\n",
        "inlines=x.split(\"\\n\")   #splita string u listu (po sep kojeg odaberes)\n",
        "text=inlines[0]\n",
        "pattern=inlines[1]\n",
        "result=patterncount(text,pattern)\n",
        "print(str(result)) "
      ]
    }
  ]
}